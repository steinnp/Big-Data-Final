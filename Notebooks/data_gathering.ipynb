{
 "cells": [
  {
   "cell_type": "code",
   "execution_count": 51,
   "metadata": {},
   "outputs": [
    {
     "name": "stdout",
     "output_type": "stream",
     "text": [
      "done\n"
     ]
    }
   ],
   "source": [
    "%run \"~/Documents/Stockholm/KTH/Courses/BigData/Project/Big-Data-Final/DataGathering/data_gathering.py\"\n",
    "print(\"done\")"
   ]
  },
  {
   "cell_type": "code",
   "execution_count": 6,
   "metadata": {},
   "outputs": [
    {
     "name": "stdout",
     "output_type": "stream",
     "text": [
      "AAAAAAAAAAAAAAAAAAAAAPY62gAAAAAAUGA8nJomXvOni%2FXpNNuvZhtgAMg%3DvtffumSGrVK3snSkAsWWIlyxNuL30DsaSM3yygdZOvZaYlqCc7\n"
     ]
    }
   ],
   "source": [
    "token = get_access_token(\"X2gxqgESTyTPg8xzkssZn39pA\", \"wSnehKghoRjtusDfGoA2KLg1J3VfMbtraXz1eriQPxwwLG1Iso\")\n",
    "print(token)"
   ]
  },
  {
   "cell_type": "code",
   "execution_count": 59,
   "metadata": {},
   "outputs": [
    {
     "name": "stdout",
     "output_type": "stream",
     "text": [
      "Pulling 100 tweets...\n"
     ]
    },
    {
     "name": "stdout",
     "output_type": "stream",
     "text": [
      "100/200 tweets pulled\nPulling 100 tweets...\n"
     ]
    },
    {
     "name": "stdout",
     "output_type": "stream",
     "text": [
      "200/200 tweets pulled\n"
     ]
    }
   ],
   "source": [
    "results = get_search_results(\"trump\", 200, token)"
   ]
  },
  {
   "cell_type": "code",
   "execution_count": 62,
   "metadata": {
    "collapsed": false
   },
   "outputs": [
    {
     "name": "stdout",
     "output_type": "stream",
     "text": [
      "trump tweet | False\nMay tells Trump let's lead the world together once again  | False\nDid Manafort Use Trump’s Campaign to Pay Back Russia?  via intelligencer | False\n@frannie_scott @moonatmidnight @natedaniels0 @DerrickoDerrick @Impeach_D_Trump @BreakingDTrump @realDonaldTrump I've never seen such a whiny, sore loser. Good Lord! Get some help. The election SMEAR campaign is over. | False\nTrump to Puerto Rico: Your hurricane isn’t a \"real catastrophe\" like Katrina   | False\nTrump .. How does a wall keep Americans safe from a home grown \"american\"  terrorist like Stephen Paddock ? | False\nBUSTED: Anti-Trump Mayor Of San Juan Spent $20,000 In Public Funds To Bankroll Violent Protest\n\n | False\nRT DrunkedLife: Legal Authorities Could Replace Trump With Clinton Because Of Russia's Interference\n | False\nSo is this cause or effect of Trump's slow reaction to Puerto Rico?   | False\n12/ By the 2018 elections, there won't be a Wall, because Trump lied about it from the jump. There won't be mass deportations. (Sorry Ann!) | False\nI don't blame FEMA for the inadequate response. Trump has fostered an environment which makes it hard for them to do their jobs. 16/ | False\nNorth Korea a pet of China &amp;amp; Russia. \n | False\nPresident Trump knows we are searching for some kind of meaning in the chaos, but...\n\n#LasVegas @realDonaldTrump @SpeakerRyan  | False\n.@NRA spent over $30,000,000 to elect Donald Trump.\n\nTrump spoke at @NRA convention\n\nHe praises @NRA at almost every rally  | False\nFlynn already resigned for misinforming the administration about his Russia meetings &amp;amp; Trump fired James Comey for investigating | False\nTrump went to Puerto Rico, and it was a total shitshow.   | False\n16/ So, purge away! Keep purging until you can fit the Trump GOP into a booth at Denny's. | False\nReuters pic of Trump shooting paper towels into the crowd in Puerto Rico  | False\n@CarmenYulinCruz PR Mayor Cruz, Lying Bitch ACCUSED President Trump OF NOT CARING 4 PR, She’s a Liberal Bastard. TRUMP IS DOING A GREAT JOB! | False\nTrump to Puerto Rico: ‘They have to give us more help’   | False\nTrump tells Puerto Ricans they don't need flashlights anymore despite most of the island lacking power   | False\nTrump goes on &amp; on about first responders, because it's the only non-challenging thing he can talk about. First responders is his safe space | False\nI am so ashamed. Trump in Puerto Rico throwing out paper towels like basketballs like this is a campaign rally...  | False\nConfused Trump Supporter Winds Up at Manga Convention\n | False\nThere's video of Trump shooting paper towels into the crowd and it does not disappoint  | False\nPence called for a 'Purge' of anti-Trump Republicans. We're calling for a purge of bigots and climate deniers. | False\nDuring a disaster visit, Trump patronized people struggling to survive this hurricane while insulting those who didn’t survive another. | False\n#TuesdayThoughts\nSeeing Trump in Puerto Rico, I'm glad to know that @POTUS cares more about helping PEOPLE than playing POLITICS. #MAGA  | False\nIf Stephen Paddock voted for Trump he is a terrorist\n\nIf Stephen Paddock voted for Clinton he is a terrorist\n\nIf Stephen Paddock voted for Stein or Sanders he is a terrorist\n\nIf Stephen Paddock did not vote he is a terrorist\n\nI don't need to wait..\n\nStephen Paddock is a terrorist | False\nTrump on Vegas shooting: 'We'll be talking about gun laws as time goes by'\n\n | False\nTrump contrasts Puerto Rico death toll to 'a real catastrophe like Katrina'  | False\n"
     ]
    }
   ],
   "source": [
    "filtered = []\n",
    "convert_retweets(results)\n",
    "strip_urls(results)\n",
    "i = 0\n",
    "for t in results:\n",
    "    i += 1\n",
    "    print(\"{} | {}\".format(t[\"full_text\"], t[\"truncated\"]))\n",
    "    if i > 30: break"
   ]
  }
 ],
 "metadata": {
  "kernelspec": {
   "display_name": "Python 3",
   "language": "python",
   "name": "python3"
  },
  "language_info": {
   "codemirror_mode": {
    "name": "ipython",
    "version": 3.0
   },
   "file_extension": ".py",
   "mimetype": "text/x-python",
   "name": "python",
   "nbconvert_exporter": "python",
   "pygments_lexer": "ipython3",
   "version": "3.6.2"
  }
 },
 "nbformat": 4,
 "nbformat_minor": 0
}