{
 "cells": [
  {
   "cell_type": "code",
   "execution_count": 9,
   "metadata": {},
   "outputs": [
    {
     "name": "stdout",
     "output_type": "stream",
     "text": [
      "done\n"
     ]
    }
   ],
   "source": [
    "%run \"~/Documents/Stockholm/KTH/Courses/BigData/Project/Big-Data-Final/DataGathering/data_gathering.py\"\n",
    "print(\"done\")"
   ]
  },
  {
   "cell_type": "code",
   "execution_count": 2,
   "metadata": {},
   "outputs": [
    {
     "name": "stdout",
     "output_type": "stream",
     "text": [
      "AAAAAAAAAAAAAAAAAAAAAPY62gAAAAAAUGA8nJomXvOni%2FXpNNuvZhtgAMg%3DvtffumSGrVK3snSkAsWWIlyxNuL30DsaSM3yygdZOvZaYlqCc7\n"
     ]
    }
   ],
   "source": [
    "token = get_access_token(\"X2gxqgESTyTPg8xzkssZn39pA\", \"wSnehKghoRjtusDfGoA2KLg1J3VfMbtraXz1eriQPxwwLG1Iso\")\n",
    "print(token)"
   ]
  },
  {
   "cell_type": "code",
   "execution_count": 15,
   "metadata": {},
   "outputs": [
    {
     "name": "stdout",
     "output_type": "stream",
     "text": [
      "Pulling 20 tweets...\n",
      "20/20 tweets pulled\n"
     ]
    }
   ],
   "source": [
    "results = get_search_results(\"trump\", 20, \"recent\", token)"
   ]
  },
  {
   "cell_type": "code",
   "execution_count": 13,
   "metadata": {},
   "outputs": [
    {
     "name": "stdout",
     "output_type": "stream",
     "text": [
      "READ. THIS. STORY. \n",
      "\n",
      "Y'all like to give Ivanka passes. But she's a liar just like her Dad.\n",
      "\n",
      "QUICK HIGHLIGHT THREAD.\n",
      "\n",
      "https://t.co/1v34YzEjQh | False\n",
      "Trump's going to get bruises from patting himself on the back so hard. https://t.co/5Y0VkfNGM4 | False\n",
      "Trump tweets this just hours before he flies to Vegas to meet with the families of victims. https://t.co/e4BTbDAtX6 | False\n",
      "Breaking News Today 10/4/17, US Navy Makes Tragic Announcement, President Trump,TOP USA NEWS https://t.co/u3h5MwbBfM | False\n",
      "🎶 And that's how you get Trump 🎶 https://t.co/nHnM7rPBwT | False\n"
     ]
    }
   ],
   "source": [
    "filtered = []\n",
    "convert_retweets(results)\n",
    "#strip_urls(results)\n",
    "for i in range(0, min(5, len(results)):\n",
    "    t = results[i]\n",
    "    print(\"{} | {}\".format(t[\"full_text\"], t[\"truncated\"]))"
   ]
  },
  {
   "cell_type": "code",
   "execution_count": 14,
   "metadata": {},
   "outputs": [
    {
     "name": "stdout",
     "output_type": "stream",
     "text": [
      "done\n"
     ]
    }
   ],
   "source": [
    "tweets_to_csv(results, \"/Users/carlo/Documents/Stockholm/KTH/Courses/BigData/Project/out/test.csv\")\n",
    "print(\"done\")"
   ]
  },
  {
   "cell_type": "code",
   "execution_count": null,
   "metadata": {},
   "outputs": [],
   "source": []
  }
 ],
 "metadata": {
  "kernelspec": {
   "display_name": "Python 3",
   "language": "python",
   "name": "python3"
  },
  "language_info": {
   "codemirror_mode": {
    "name": "ipython",
    "version": 3
   },
   "file_extension": ".py",
   "mimetype": "text/x-python",
   "name": "python",
   "nbconvert_exporter": "python",
   "pygments_lexer": "ipython3",
   "version": "3.6.2"
  }
 },
 "nbformat": 4,
 "nbformat_minor": 1
}
